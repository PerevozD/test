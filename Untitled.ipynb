{
 "cells": [
  {
   "cell_type": "markdown",
   "id": "3fbf563f-68c2-411b-a806-634e0fd894a8",
   "metadata": {},
   "source": [
    "# My Jupyter Notebook on IBM Watson Studio"
   ]
  },
  {
   "cell_type": "markdown",
   "id": "ad80e33d-1942-42f4-99c3-606eadbaa3b9",
   "metadata": {},
   "source": [
    "[Dmitrii Perevozchikov]\n",
    "Homeless"
   ]
  },
  {
   "cell_type": "markdown",
   "id": "fbdf8802-2f29-48a1-b6b4-00e1482db700",
   "metadata": {},
   "source": [
    "*I am interested in data science because this profession could afford me \n",
    "to earn money for food and roof overhead"
   ]
  },
  {
   "cell_type": "markdown",
   "id": "9939d988-10f7-4caa-938b-2dd601a4d52c",
   "metadata": {},
   "source": [
    "### The program below print word n-times, where n is equal len of the word"
   ]
  },
  {
   "cell_type": "code",
   "execution_count": 6,
   "id": "9f1333af-f446-4032-a6fe-9cfaa52da085",
   "metadata": {},
   "outputs": [
    {
     "name": "stdout",
     "output_type": "stream",
     "text": [
      "DimaDimaDimaDima\n"
     ]
    }
   ],
   "source": [
    "def name_mult(a):\n",
    "    return print(a * len(a))\n",
    "\n",
    "name_mult(\"Dima\")"
   ]
  },
  {
   "cell_type": "markdown",
   "id": "932b3ba0-fafb-418d-9c4d-7fa103bcb92b",
   "metadata": {},
   "source": [
    "block1 - block2 - block3\n",
    "\n",
    "1. item 1\n",
    "2. item 2\n",
    "3. item 3\n",
    "\n",
    "| Block 1 | Column 2 | Column 3 |\n",
    "| --- | --- | --- |\n",
    "| Item 1, Column 1 | Item 2, Column 2 | Item 3, Column 3 |\n"
   ]
  }
 ],
 "metadata": {
  "kernelspec": {
   "display_name": "Python",
   "language": "python",
   "name": "conda-env-python-py"
  },
  "language_info": {
   "codemirror_mode": {
    "name": "ipython",
    "version": 3
   },
   "file_extension": ".py",
   "mimetype": "text/x-python",
   "name": "python",
   "nbconvert_exporter": "python",
   "pygments_lexer": "ipython3",
   "version": "3.7.12"
  }
 },
 "nbformat": 4,
 "nbformat_minor": 5
}
